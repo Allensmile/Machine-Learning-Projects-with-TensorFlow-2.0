{
 "cells": [
  {
   "cell_type": "markdown",
   "metadata": {},
   "source": [
    "# 1.3. Getting started with Tensorflow 2.0"
   ]
  },
  {
   "cell_type": "markdown",
   "metadata": {},
   "source": [
    "## Imports"
   ]
  },
  {
   "cell_type": "code",
   "execution_count": 19,
   "metadata": {},
   "outputs": [
    {
     "name": "stdout",
     "output_type": "stream",
     "text": [
      "2.0.0\n"
     ]
    }
   ],
   "source": [
    "import numpy as np # conda install numpy\n",
    "import tensorflow as tf \n",
    "import matplotlib.pyplot as plt # conda install matplotlib\n",
    "\n",
    "print(tf.__version__)"
   ]
  },
  {
   "cell_type": "markdown",
   "metadata": {},
   "source": [
    "## Generate toy data"
   ]
  },
  {
   "cell_type": "code",
   "execution_count": 20,
   "metadata": {},
   "outputs": [],
   "source": [
    "np.random.seed(42) \n",
    "tf.random.set_seed(42) "
   ]
  },
  {
   "cell_type": "code",
   "execution_count": 21,
   "metadata": {},
   "outputs": [],
   "source": [
    "# random linear data: 100 between 0-50\n",
    "n = 100\n",
    "X = np.linspace(0, 50, n) \n",
    "y = np.linspace(0, 50, n) \n",
    "  \n",
    "# Adding noise to the random linear data \n",
    "X += np.random.uniform(-10, 10, n) \n",
    "y += np.random.uniform(-10, 10, n) "
   ]
  },
  {
   "cell_type": "markdown",
   "metadata": {},
   "source": [
    "## Show the data"
   ]
  },
  {
   "cell_type": "code",
   "execution_count": 22,
   "metadata": {},
   "outputs": [
    {
     "data": {
      "image/png": "[encoded data removed]",
      "text/plain": [
       "<Figure size 432x288 with 1 Axes>"
      ]
     },
     "metadata": {
      "needs_background": "light"
     },
     "output_type": "display_data"
    }
   ],
   "source": [
    "# Plot of Training Data \n",
    "plt.scatter(X, y) \n",
    "plt.xlabel('X') \n",
    "plt.ylabel('y') \n",
    "plt.title('Training Data') \n",
    "plt.show() "
   ]
  },
  {
   "cell_type": "markdown",
   "metadata": {},
   "source": [
    "## LinearModel class"
   ]
  },
  {
   "cell_type": "code",
   "execution_count": null,
   "metadata": {},
   "outputs": [],
   "source": [
    "class LinearModel:\n",
    "    def __init__(self):\n",
    "        # y_pred = W*X + b\n",
    "        self.W = tf.Variable(13.0)\n",
    "        self.b = tf.Variable(4.0)\n",
    "    \n",
    "    def loss(self, y, y_pred):\n",
    "        return tf.reduce_mean(tf.square(y - y_pred))\n",
    "    \n",
    "    def train(self, X, y, lr=0.0001, epochs=20, verbose=True):\n",
    "        def train_step():\n",
    "            with tf.GradientTape() as t:\n",
    "                current_loss = self.loss(y, self.predict(X))\n",
    "\n",
    "            dW, db = t.gradient(current_loss, [self.W, self.b])\n",
    "            self.W.assign_sub(lr * dW) # W -= lr * dW\n",
    "            self.b.assign_sub(lr * db)\n",
    "            \n",
    "            return current_loss\n",
    "        \n",
    "        for epoch in range(epochs):\n",
    "            current_loss = train_step()\n",
    "            if verbose:\n",
    "                print(f'Epoch {epoch}: Loss: {current_loss.numpy()}') # <3 eager execution\n",
    "                \n",
    "    def predict(self, X):\n",
    "        return self.W * X + self.b"
   ]
  },
  {
   "cell_type": "markdown",
   "metadata": {},
   "source": [
    "## Using the model"
   ]
  },
  {
   "cell_type": "code",
   "execution_count": 24,
   "metadata": {},
   "outputs": [
    {
     "name": "stdout",
     "output_type": "stream",
     "text": [
      "Epoch 0: Loss: 124765.109375\n",
      "Epoch 1: Loss: 86082.9765625\n",
      "Epoch 2: Loss: 59400.33984375\n",
      "Epoch 3: Loss: 40994.84765625\n",
      "Epoch 4: Loss: 28298.88671875\n",
      "Epoch 5: Loss: 19541.3046875\n",
      "Epoch 6: Loss: 13500.388671875\n",
      "Epoch 7: Loss: 9333.412109375\n",
      "Epoch 8: Loss: 6459.06103515625\n",
      "Epoch 9: Loss: 4476.35546875\n",
      "Epoch 10: Loss: 3108.701171875\n",
      "Epoch 11: Loss: 2165.30322265625\n",
      "Epoch 12: Loss: 1514.5535888671875\n",
      "Epoch 13: Loss: 1065.671875\n",
      "Epoch 14: Loss: 756.03662109375\n",
      "Epoch 15: Loss: 542.452392578125\n",
      "Epoch 16: Loss: 395.1237487792969\n",
      "Epoch 17: Loss: 293.4975280761719\n",
      "Epoch 18: Loss: 223.3964080810547\n",
      "Epoch 19: Loss: 175.04122924804688\n",
      "Epoch 20: Loss: 141.6861572265625\n",
      "Epoch 21: Loss: 118.67814636230469\n",
      "Epoch 22: Loss: 102.80734252929688\n",
      "Epoch 23: Loss: 91.85980224609375\n",
      "Epoch 24: Loss: 84.3082504272461\n",
      "Epoch 25: Loss: 79.0992660522461\n",
      "Epoch 26: Loss: 75.50613403320312\n",
      "Epoch 27: Loss: 73.02761840820312\n",
      "Epoch 28: Loss: 71.31796264648438\n",
      "Epoch 29: Loss: 70.13866424560547\n",
      "Epoch 30: Loss: 69.32516479492188\n",
      "Epoch 31: Loss: 68.76404571533203\n",
      "Epoch 32: Loss: 68.37698364257812\n",
      "Epoch 33: Loss: 68.10999298095703\n",
      "Epoch 34: Loss: 67.92581176757812\n",
      "Epoch 35: Loss: 67.79878234863281\n",
      "Epoch 36: Loss: 67.71113586425781\n",
      "Epoch 37: Loss: 67.65069580078125\n",
      "Epoch 38: Loss: 67.6089859008789\n",
      "Epoch 39: Loss: 67.58024597167969\n"
     ]
    },
    {
     "data": {
      "text/plain": [
       "<matplotlib.legend.Legend at 0x7fa9f018add0>"
      ]
     },
     "execution_count": 24,
     "metadata": {},
     "output_type": "execute_result"
    },
    {
     "data": {
      "image/png": "[encoded data removed]",
      "text/plain": [
       "<Figure size 432x288 with 1 Axes>"
      ]
     },
     "metadata": {
      "needs_background": "light"
     },
     "output_type": "display_data"
    }
   ],
   "source": [
    "model = LinearModel()\n",
    "model.train(X, y, epochs=40)\n",
    "plt.scatter(X, y, label='data')\n",
    "plt.plot(X, model.predict(X), 'r-', label='predicted')\n",
    "plt.legend()"
   ]
  },
  {
   "cell_type": "code",
   "execution_count": null,
   "metadata": {},
   "outputs": [],
   "source": []
  },
  {
   "cell_type": "code",
   "execution_count": null,
   "metadata": {},
   "outputs": [],
   "source": []
  }
 ],
 "metadata": {
  "kernelspec": {
   "display_name": "tf_gpu",
   "language": "python",
   "name": "tf_gpu"
  },
  "language_info": {
   "codemirror_mode": {
    "name": "ipython",
    "version": 3
   },
   "file_extension": ".py",
   "mimetype": "text/x-python",
   "name": "python",
   "nbconvert_exporter": "python",
   "pygments_lexer": "ipython3",
   "version": "3.7.6"
  }
 },
 "nbformat": 4,
 "nbformat_minor": 2
}
